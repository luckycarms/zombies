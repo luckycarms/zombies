{
 "cells": [
  {
   "cell_type": "markdown",
   "metadata": {},
   "source": [
    "# Zombie Apocalypse\n",
    "\n",
    "The purpose of this project is to determine not only what is needed to survive a zombie apocalpyse but also if there is a location that has the better chance of survival\n"
   ]
  },
  {
   "cell_type": "markdown",
   "metadata": {},
   "source": [
    "Virtual Environment Commands\n",
    "\n",
    "| Command | Linux/Mac | GitBash |\n",
    "|---------|-----------|---------|\n",
    "| Create | `python3 -m venv venv` | `python -m venv venv` |\n",
    "| Activate | `source venv/bin/activate` | `source venv/Scripts/activate` |\n",
    "| Install | `pip install -r requirements.txt` | `pip install -r requirements.txt` |\n",
    "| Deactivate | `deactivate` | `deactivate` |"
   ]
  },
  {
   "cell_type": "code",
   "execution_count": 1,
   "metadata": {},
   "outputs": [],
   "source": [
    "import pandas as pd"
   ]
  },
  {
   "cell_type": "code",
   "execution_count": 2,
   "metadata": {},
   "outputs": [
    {
     "name": "stdout",
     "output_type": "stream",
     "text": [
      "Warning: Looks like you're using an outdated `kagglehub` version (installed: 0.3.6), please consider upgrading to the latest version (0.3.10).\n",
      "Downloading from https://www.kaggle.com/api/v1/datasets/download/kingabzpro/zombies-apocalypse?dataset_version_number=1...\n"
     ]
    },
    {
     "name": "stderr",
     "output_type": "stream",
     "text": [
      "100%|██████████| 2.26k/2.26k [00:00<00:00, 844kB/s]"
     ]
    },
    {
     "name": "stdout",
     "output_type": "stream",
     "text": [
      "Extracting files...\n",
      "Path to dataset files: /Users/luckyc/.cache/kagglehub/datasets/kingabzpro/zombies-apocalypse/versions/1\n"
     ]
    },
    {
     "name": "stderr",
     "output_type": "stream",
     "text": [
      "\n"
     ]
    }
   ],
   "source": [
    "import kagglehub\n",
    "\n",
    "# Download latest version\n",
    "path = kagglehub.dataset_download(\"kingabzpro/zombies-apocalypse\")\n",
    "\n",
    "print(\"Path to dataset files:\", path)"
   ]
  },
  {
   "cell_type": "code",
   "execution_count": 3,
   "metadata": {},
   "outputs": [],
   "source": [
    "# Read in file\n",
    "zombies_raw = pd.read_csv('zombies.csv')\n"
   ]
  },
  {
   "cell_type": "code",
   "execution_count": 6,
   "metadata": {},
   "outputs": [
    {
     "name": "stdout",
     "output_type": "stream",
     "text": [
      "<class 'pandas.core.frame.DataFrame'>\n",
      "RangeIndex: 200 entries, 0 to 199\n",
      "Data columns (total 14 columns):\n",
      " #   Column      Non-Null Count  Dtype \n",
      "---  ------      --------------  ----- \n",
      " 0   zombieid    200 non-null    int64 \n",
      " 1   zombie      200 non-null    object\n",
      " 2   age         200 non-null    int64 \n",
      " 3   sex         200 non-null    object\n",
      " 4   rurality    200 non-null    object\n",
      " 5   household   200 non-null    int64 \n",
      " 6   water       200 non-null    int64 \n",
      " 7   food        200 non-null    object\n",
      " 8   medication  200 non-null    object\n",
      " 9   tools       200 non-null    object\n",
      " 10  firstaid    200 non-null    object\n",
      " 11  sanitation  200 non-null    object\n",
      " 12  clothing    126 non-null    object\n",
      " 13  documents   66 non-null     object\n",
      "dtypes: int64(4), object(10)\n",
      "memory usage: 22.0+ KB\n"
     ]
    }
   ],
   "source": [
    "# Review the dataframe and see highlevel if any null values\n",
    "zombies_raw.info()"
   ]
  },
  {
   "cell_type": "code",
   "execution_count": 7,
   "metadata": {},
   "outputs": [
    {
     "data": {
      "text/plain": [
       "np.True_"
      ]
     },
     "execution_count": 7,
     "metadata": {},
     "output_type": "execute_result"
    }
   ],
   "source": [
    "# Check for null values\n",
    "zombies_raw.isnull().any().any()"
   ]
  }
 ],
 "metadata": {
  "kernelspec": {
   "display_name": "Python 3",
   "language": "python",
   "name": "python3"
  },
  "language_info": {
   "codemirror_mode": {
    "name": "ipython",
    "version": 3
   },
   "file_extension": ".py",
   "mimetype": "text/x-python",
   "name": "python",
   "nbconvert_exporter": "python",
   "pygments_lexer": "ipython3",
   "version": "3.13.0"
  }
 },
 "nbformat": 4,
 "nbformat_minor": 2
}
